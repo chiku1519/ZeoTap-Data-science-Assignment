import pandas as pd
from sklearn.metrics.pairwise import cosine_similarity
from sklearn.preprocessing import StandardScaler

# Load Data
def load_data():
    customers = pd.read_csv('Customers.csv')
    transactions = pd.read_csv('Transactions.csv')
    return customers, transactions

# Build Lookalike Model
def build_lookalike_model(customers, transactions):
    # Aggregate transaction data for each customer
    customer_profiles = transactions.groupby('CustomerID').agg({
        'TotalValue': 'sum',
        'Quantity': 'sum'
    }).reset_index()

    # Merge with customer demographic data
    customer_profiles = customer_profiles.merge(customers[['CustomerID', 'Region']], on='CustomerID', how='left')

    # Encode categorical data
    customer_profiles = pd.get_dummies(customer_profiles, columns=['Region'], drop_first=True)

    # Standardize features
    scaler = StandardScaler()
    features = customer_profiles.iloc[:, 1:].values  # Exclude CustomerID
    standardized_features = scaler.fit_transform(features)

    # Compute similarity matrix
    similarity_matrix = cosine_similarity(standardized_features)

    # Generate lookalike recommendations
    lookalike_results = {}
    customer_ids = customer_profiles['CustomerID'].tolist()
    for i, cust_id in enumerate(customer_ids[:20]):  # For the first 20 customers
        similar_indices = similarity_matrix[i].argsort()[-4:-1][::-1]  # Top 3 excluding self
        similar_customers = [(customer_ids[j], similarity_matrix[i][j]) for j in similar_indices]
        lookalike_results[cust_id] = similar_customers

    # Save results to a CSV file
    results_df = pd.DataFrame({
        'CustomerID': lookalike_results.keys(),
        'Lookalikes': [str(lst) for lst in lookalike_results.values()]
    })
    results_df.to_csv('FirstName_LastName_Lookalike.csv', index=False)

# Main Function
def main():
    customers, transactions = load_data()
    build_lookalike_model(customers, transactions)
    print("Lookalike recommendations have been saved to 'FirstName_LastName_Lookalike.csv'.")

if __name__ == "__main__":
    main()
